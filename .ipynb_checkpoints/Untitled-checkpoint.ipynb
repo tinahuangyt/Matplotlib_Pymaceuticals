{
 "cells": [
  {
   "cell_type": "markdown",
   "metadata": {},
   "source": [
    "* Of all the drugs tested, Capomulin is the only one that reduced tumor volume over the course of 45 days. Tumor volume was reduced by 19.5% with Capomulin treatment. Capomulin is also most effective in limiting tumor metastatic sites and yeilds the highest survival rate.\n",
    "\n",
    "* Ketapril performed similarly to placebo in both its effect on tumor metastatic sites and survival rate. This drug is ineffective but not harmful to the experimental subjects (mice).\n",
    "\n",
    "* Infubinol showed moderate effect on lowering metastatic sites, but led to lower survival rate compared to placebo. Therefore this drug can potentially have toxic effect on its subjects."
   ]
  }
 ],
 "metadata": {
  "kernelspec": {
   "display_name": "Python 3",
   "language": "python",
   "name": "python3"
  },
  "language_info": {
   "codemirror_mode": {
    "name": "ipython",
    "version": 3
   },
   "file_extension": ".py",
   "mimetype": "text/x-python",
   "name": "python",
   "nbconvert_exporter": "python",
   "pygments_lexer": "ipython3",
   "version": "3.7.1"
  }
 },
 "nbformat": 4,
 "nbformat_minor": 2
}
